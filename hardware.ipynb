{
 "cells": [
  {
   "cell_type": "code",
   "execution_count": null,
   "id": "9fb53666",
   "metadata": {},
   "outputs": [],
   "source": [
    "# Complete tinyGPT\n",
    "# Then build and train gpt2\n",
    "# Papers - Attention is all you need\n",
    "# GPT 2/3 paper\n",
    "\n",
    "# Llamac/llama2.c\n",
    "# Cuda \n",
    "\n",
    "#### commands\n",
    "\"\"\"\"\n",
    "To see the gpu stats\n",
    "nvidia-smi \n",
    "# To see al the cpu stats\n",
    "\n",
    "\n",
    "\"\"\""
   ]
  },
  {
   "cell_type": "code",
   "execution_count": 1,
   "id": "403d25bd",
   "metadata": {},
   "outputs": [
    {
     "name": "stdout",
     "output_type": "stream",
     "text": [
      "CUDA available: True\n",
      "GPU name: NVIDIA GeForce GTX 1650\n",
      "Supports BF16: True\n",
      "Supports TF32: False\n",
      "Supports FP16: True\n"
     ]
    }
   ],
   "source": [
    "import torch\n",
    "\n",
    "print(\"CUDA available:\", torch.cuda.is_available())\n",
    "print(\"GPU name:\", torch.cuda.get_device_name(0))\n",
    "print(\"Supports BF16:\", torch.cuda.is_bf16_supported())\n",
    "print(\"Supports TF32:\", torch.backends.cuda.matmul.allow_tf32)\n",
    "print(\"Supports FP16:\", torch.cuda.get_device_capability(0)[0] >= 7)"
   ]
  },
  {
   "cell_type": "code",
   "execution_count": null,
   "id": "69d5c698",
   "metadata": {},
   "outputs": [],
   "source": [
    "# Calculation of Time and money needed to run the model\n",
    "# Calculate the number of parmameters that model contains\n"
   ]
  },
  {
   "cell_type": "code",
   "execution_count": null,
   "id": "2639ca32",
   "metadata": {},
   "outputs": [],
   "source": [
    "# import torch\n",
    "# how many neurons and number of values needed to represent that neuron\n",
    "# GPT-> Token embedding, position embedding, Module List, lmhead\n",
    "# Module List -> n_layer number of blocks\n",
    "# Block -> Casual self attention + Feed forward network\n",
    "# FeedForward network -> 2 linear model with gelu in between\n",
    "# Self attention block -> casual attention + projection\n",
    "\n",
    "\n"
   ]
  }
 ],
 "metadata": {
  "kernelspec": {
   "display_name": "Python 3",
   "language": "python",
   "name": "python3"
  },
  "language_info": {
   "codemirror_mode": {
    "name": "ipython",
    "version": 3
   },
   "file_extension": ".py",
   "mimetype": "text/x-python",
   "name": "python",
   "nbconvert_exporter": "python",
   "pygments_lexer": "ipython3",
   "version": "3.10.12"
  }
 },
 "nbformat": 4,
 "nbformat_minor": 5
}
