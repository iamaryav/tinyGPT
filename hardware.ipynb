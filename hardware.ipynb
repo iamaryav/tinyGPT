{
 "cells": [
  {
   "cell_type": "code",
   "execution_count": 5,
   "id": "9fb53666",
   "metadata": {},
   "outputs": [
    {
     "data": {
      "text/plain": [
       "'\"\\nTo see the gpu stats\\nnvidia-smi \\n# To see al the cpu stats\\n\\n\\n'"
      ]
     },
     "execution_count": 5,
     "metadata": {},
     "output_type": "execute_result"
    }
   ],
   "source": [
    "# Complete tinyGPT\n",
    "# Then build and train gpt2\n",
    "# Papers - Attention is all you need\n",
    "# GPT 2/3 paper\n",
    "\n",
    "# Llamac/llama2.c\n",
    "# Cuda \n",
    "\n",
    "#### commands\n",
    "\"\"\"\"\n",
    "To see the gpu stats\n",
    "nvidia-smi \n",
    "# To see al the cpu stats\n",
    "\n",
    "\n",
    "\"\"\""
   ]
  },
  {
   "cell_type": "code",
   "execution_count": 6,
   "id": "403d25bd",
   "metadata": {},
   "outputs": [
    {
     "name": "stdout",
     "output_type": "stream",
     "text": [
      "CUDA available: True\n",
      "GPU name: NVIDIA GeForce GTX 1650\n",
      "Supports BF16: True\n",
      "Supports TF32: False\n",
      "Supports FP16: True\n",
      "Total GPU memory: 4.00 GB\n"
     ]
    }
   ],
   "source": [
    "import torch\n",
    "\n",
    "print(\"CUDA available:\", torch.cuda.is_available())\n",
    "print(\"GPU name:\", torch.cuda.get_device_name(0))\n",
    "print(\"Supports BF16:\", torch.cuda.is_bf16_supported())\n",
    "print(\"Supports TF32:\", torch.backends.cuda.matmul.allow_tf32)\n",
    "print(\"Supports FP16:\", torch.cuda.get_device_capability(0)[0] >= 7)\n",
    "\n",
    "if torch.cuda.is_available():\n",
    "    gpu_id = 0  # Change if you have multiple GPUs\n",
    "    total_memory = torch.cuda.get_device_properties(gpu_id).total_memory\n",
    "    print(f\"Total GPU memory: {total_memory / (1024**3):.2f} GB\")\n",
    "    # print(f\"Allocated memory: {torch.cuda.memory_allocated(gpu_id) / (1024**2):.2f} MB\")\n",
    "    # print(f\"Reserved memory : {torch.cuda.memory_reserved(gpu_id) / (1024**2):.2f} MB\")\n",
    "else:\n",
    "    print(\"CUDA not available\")"
   ]
  },
  {
   "cell_type": "code",
   "execution_count": 7,
   "id": "69d5c698",
   "metadata": {},
   "outputs": [],
   "source": [
    "# Calculation of Time and money needed to run the model\n",
    "# Calculate the number of parmameters that model contains\n"
   ]
  },
  {
   "cell_type": "code",
   "execution_count": 8,
   "id": "2639ca32",
   "metadata": {},
   "outputs": [],
   "source": [
    "# import torch\n",
    "# how many neurons and number of values needed to represent that neuron\n",
    "# GPT-> Token embedding, position embedding, Module List, lmhead\n",
    "# Module List -> n_layer number of blocks\n",
    "# Block -> Casual self attention + Feed forward network\n",
    "# FeedForward network -> 2 linear model with gelu in between\n",
    "# Self attention block -> casual attention + projection\n",
    "vocab_size = 50304 \n",
    "block_size = 1024\n",
    "n_embd = 768\n",
    "n_layer = 12\n",
    "n_head = 12\n",
    "batch_size = 12\n",
    "\n"
   ]
  },
  {
   "cell_type": "code",
   "execution_count": 10,
   "id": "444ab71b",
   "metadata": {},
   "outputs": [],
   "source": [
    "# calculate in a single loop run how much memory is required\n",
    "# model_size = (total_parameters * 2) / (2 ** 20)\n",
    "# Size of the model if it is stored in FP16\n",
    "# print(f\"{model_size:.2f} MB\")"
   ]
  },
  {
   "cell_type": "code",
   "execution_count": 13,
   "id": "248d3a2f",
   "metadata": {},
   "outputs": [],
   "source": [
    "# input_size = (batch_size * block_size * n_embd) * 2\n",
    "# for activation input size becomes\n",
    "# input_size = input_size * 3\n",
    "# model_weight_size = total_parameters * 2\n",
    "# optimizer (AdamW) stores 3 copies(weights + momentum + velocity)\n",
    "# optimizer_size = model_weight_size * 3\n",
    "\n",
    "# total_memory = input_size + model_weight_size + optimizer_size\n",
    "# print(f\"total size: {total_memory//(2**20):.2f}\")"
   ]
  },
  {
   "cell_type": "code",
   "execution_count": 27,
   "id": "36b76655",
   "metadata": {},
   "outputs": [],
   "source": [
    "# model config\n",
    "vocab_size = 50257\n",
    "block_size = 1024\n",
    "n_embd = 768\n",
    "n_layer = 12\n",
    "n_head = 12\n",
    "batch_size = 12"
   ]
  },
  {
   "cell_type": "code",
   "execution_count": 28,
   "id": "7cbe4cb2",
   "metadata": {},
   "outputs": [
    {
     "name": "stdout",
     "output_type": "stream",
     "text": [
      "wte: 38597376, wpe: 786432\n",
      "total parameters: 124438274\n",
      "non decay parameters: 119808\n",
      "non decay parameters: 9984\n",
      "decay parameters: 124318466\n"
     ]
    }
   ],
   "source": [
    "# with Bias calculation\n",
    "def params():\n",
    "    out = dict()\n",
    "    # print(out)\n",
    "    qkv_proj_param = (n_embd * 3 * n_embd) + (3 * n_embd)\n",
    "    out_proj_param = (n_embd * n_embd) + (n_embd)\n",
    "    attn_param = qkv_proj_param + out_proj_param\n",
    "\n",
    "    feed_ln1_param = (n_embd * 4 * n_embd) + (4 * n_embd)\n",
    "    feed_ln2_param = (4 * n_embd * n_embd) + n_embd\n",
    "    feed_param = feed_ln1_param + feed_ln2_param\n",
    "\n",
    "    layer_norm_param = 2 * 2 * n_embd\n",
    "    block_param =  layer_norm_param + attn_param + feed_param # a layer norm contains 2 param\n",
    "    wte = vocab_size * n_embd # token embeddings\n",
    "    wpe = block_size * n_embd # position embeddings\n",
    "    # decay_param = (3 * n_embd) + (n_embd) + (4 * n_embd) + n_embd + 4 * n_embd\n",
    "    non_decay_param = n_layer * (13 * n_embd)\n",
    "    total_parameters = (wte + wpe + 2 + n_layer * block_param)\n",
    "    print(f\"wte: {wte}, wpe: {wpe}\")\n",
    "    print(f\"total parameters: {total_parameters}\")\n",
    "    print(f\"non decay parameters: {non_decay_param}\")\n",
    "    print(f\"non decay parameters: {non_decay_param//n_layer}\")\n",
    "    print(f\"decay parameters: {total_parameters - non_decay_param}\")\n",
    "    # find out decayed and non decay params of the model\n",
    "    return total_parameters\n",
    "\n",
    "total_parameters = params()"
   ]
  },
  {
   "cell_type": "code",
   "execution_count": 29,
   "id": "45a79a1e",
   "metadata": {},
   "outputs": [
    {
     "name": "stdout",
     "output_type": "stream",
     "text": [
      "checkpoint size: 1.49 GB\n"
     ]
    }
   ],
   "source": [
    "# suppose model saved in FP32 - 4 bytes\n",
    "param_bytes = total_parameters * 4\n",
    "params_buffer_bytes = param_bytes + 2 * param_bytes\n",
    "print(f\"checkpoint size: {params_buffer_bytes/1e9:.2f} GB\")\n",
    "# param_bytes"
   ]
  },
  {
   "cell_type": "code",
   "execution_count": 30,
   "id": "4b325a71",
   "metadata": {},
   "outputs": [
    {
     "name": "stdout",
     "output_type": "stream",
     "text": [
      "Total GPU memory: 4.00 GB\n",
      "memory taken up just for parameters: 34.77\n"
     ]
    }
   ],
   "source": [
    "# my laptop gpu memory\n",
    "total_gpu_memory = torch.cuda.get_device_properties(gpu_id).total_memory\n",
    "print(f\"Total GPU memory: {total_memory / (1024**3):.2f} GB\")\n",
    "# 4 GB\n",
    "\n",
    "print(f\"memory taken up just for parameters: {params_buffer_bytes / total_gpu_memory * 100:.2f}\")\n",
    "\n"
   ]
  },
  {
   "cell_type": "code",
   "execution_count": 31,
   "id": "797af7c6",
   "metadata": {},
   "outputs": [
    {
     "name": "stdout",
     "output_type": "stream",
     "text": [
      "(291648307200, 583296614400, 874944921600)\n"
     ]
    }
   ],
   "source": [
    "# estimating flops for single forward pass\n",
    "def flops():\n",
    "    out = {}\n",
    "    head_size = n_embd // n_head\n",
    "\n",
    "    # attention block\n",
    "    # 1 projections of input token\n",
    "    # B, T, C\n",
    "    # (T, C) (c, 3*c) -> 2 * T * C  3*C\n",
    "    kqv = 2 * block_size * (n_embd * 3 * n_embd)\n",
    "    # 2 attention socre calculation    \n",
    "    # (B, T, C), (B, C, T)= (B, nh, T, ns) @ (B, nh, ns, T) -> (B, nh, T, T) \n",
    "    attn_sc = 2 * block_size * block_size * n_embd\n",
    "    # value calculation\n",
    "    val = 2 * n_head * (block_size * block_size * head_size)\n",
    "    proj = 2 * block_size * (n_embd * n_embd)\n",
    "    attn_flops = kqv + attn_sc + val + proj\n",
    "\n",
    "    # MLP block / Feed forward block\n",
    "    # ignoring non linear and dropout because they have very less impact\n",
    "    ffw_size = 4 * n_embd\n",
    "    ffw1 = 2 * block_size * (n_embd * ffw_size)\n",
    "    ffw2 = 2 * block_size * (ffw_size * n_embd)\n",
    "    ffw_flops = ffw1 + ffw2\n",
    "\n",
    "    # transformer block and other operatoins\n",
    "    block = attn_flops + ffw_flops\n",
    "    transformer = n_layer * block\n",
    "    dense = 2 * block_size * (n_embd * vocab_size)\n",
    "\n",
    "    # forward, backward total\n",
    "    forward_total = transformer + dense\n",
    "    backward_total = 2 * forward_total\n",
    "    total = forward_total + backward_total\n",
    "\n",
    "    return (forward_total, backward_total, total)\n",
    "f = flops()\n",
    "print(f)"
   ]
  },
  {
   "cell_type": "code",
   "execution_count": 37,
   "id": "f26bd6dc",
   "metadata": {},
   "outputs": [
    {
     "name": "stdout",
     "output_type": "stream",
     "text": [
      "875681034240\n",
      "ratio: 1.0008413245472114\n"
     ]
    }
   ],
   "source": [
    "# calculating flops using PaLM paper\n",
    "N = total_parameters - (786432) # positional token\n",
    "L, H, Q, T = n_layer, n_head, n_embd//n_head, block_size\n",
    "mf_per_token = 6*N + 12*L*H*Q*T\n",
    "mf = mf_per_token * block_size\n",
    "print(mf)\n",
    "print(f\"ratio: {mf/f[2]}\")"
   ]
  },
  {
   "cell_type": "code",
   "execution_count": null,
   "id": "6a8c0e90",
   "metadata": {},
   "outputs": [],
   "source": []
  },
  {
   "cell_type": "code",
   "execution_count": 40,
   "id": "b0ad02a2",
   "metadata": {},
   "outputs": [
    {
     "name": "stdout",
     "output_type": "stream",
     "text": [
      "fraction of my pc gpu used: 3862.89\n"
     ]
    }
   ],
   "source": [
    "# My GPU rate performance fp16: 6 TFLOps\n",
    "# fp32: 3 TFlops\n",
    "batch_size = 20 * 5 # 100 batch size\n",
    "measured_time = 0.755 # seconds per iteration\n",
    "measured_throughput = batch_size / measured_time\n",
    "flops_achieved = f[2] * measured_throughput\n",
    "\n",
    "\n",
    "nvidia_1650_rtx_flops = 3e12\n",
    "\n",
    "print(f\"fraction of my pc gpu used: {flops_achieved / nvidia_1650_rtx_flops * 100:.2f}\")"
   ]
  },
  {
   "cell_type": "code",
   "execution_count": null,
   "id": "b3160864",
   "metadata": {},
   "outputs": [
    {
     "name": "stdout",
     "output_type": "stream",
     "text": [
      "time needed to train the model: 432.08 days\n"
     ]
    }
   ],
   "source": [
    "model_size = total_parameters\n",
    "token_num = 300e9 # 300B token\n",
    "nvidia_1650 = 6e12\n",
    "assumed_mfu = 1\n",
    "flops_throughput = nvidia_1650 * 1 * assumed_mfu\n",
    "flops_needed = 6 * model_size * token_num\n",
    "time_needed_s = flops_needed / flops_throughput\n",
    "print(f\"time needed to train the model: {time_needed_s/3600/24:.2f} days\")"
   ]
  },
  {
   "cell_type": "code",
   "execution_count": 25,
   "id": "598f4eb3",
   "metadata": {},
   "outputs": [
    {
     "name": "stdout",
     "output_type": "stream",
     "text": [
      "torch.float32\n",
      "Total FLOPs: 3,628,146,688\n"
     ]
    }
   ],
   "source": [
    "import torch\n",
    "import torchvision.models as models\n",
    "from torch.profiler import profile, record_function, ProfilerActivity\n",
    "\n",
    "# Load model\n",
    "model = models.resnet18().cuda()\n",
    "# model.to(torch.float16) # converting to float 16 be default float32\n",
    "model.eval()\n",
    "\n",
    "# Sample input\n",
    "# inputs = torch.randn(1, 3, 224, 224, dtype=torch.float16).cuda()\n",
    "inputs = torch.randn(1, 3, 224, 224).cuda()\n",
    "print(inputs[:,:1,:1,:1].dtype)\n",
    "\n",
    "# Run with profiler\n",
    "with profile(activities=[ProfilerActivity.CPU, ProfilerActivity.CUDA],\n",
    "             record_shapes=True,\n",
    "             with_flops=True) as prof:\n",
    "    with record_function(\"model_inference\"):\n",
    "        model(inputs)\n",
    "\n",
    "# Print total FLOPs\n",
    "flop_total = sum([e.flops for e in prof.key_averages() if e.flops is not None])\n",
    "print(f\"Total FLOPs: {flop_total:,}\")\n"
   ]
  },
  {
   "cell_type": "code",
   "execution_count": null,
   "id": "fd9aff82",
   "metadata": {},
   "outputs": [],
   "source": []
  }
 ],
 "metadata": {
  "kernelspec": {
   "display_name": "Python 3",
   "language": "python",
   "name": "python3"
  },
  "language_info": {
   "codemirror_mode": {
    "name": "ipython",
    "version": 3
   },
   "file_extension": ".py",
   "mimetype": "text/x-python",
   "name": "python",
   "nbconvert_exporter": "python",
   "pygments_lexer": "ipython3",
   "version": "3.10.12"
  }
 },
 "nbformat": 4,
 "nbformat_minor": 5
}
