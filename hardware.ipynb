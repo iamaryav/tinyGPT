{
 "cells": [
  {
   "cell_type": "code",
   "execution_count": 1,
   "id": "403d25bd",
   "metadata": {},
   "outputs": [
    {
     "name": "stdout",
     "output_type": "stream",
     "text": [
      "CUDA available: True\n",
      "GPU name: NVIDIA GeForce GTX 1650\n",
      "Supports BF16: True\n",
      "Supports TF32: False\n",
      "Supports FP16: True\n"
     ]
    }
   ],
   "source": [
    "import torch\n",
    "\n",
    "print(\"CUDA available:\", torch.cuda.is_available())\n",
    "print(\"GPU name:\", torch.cuda.get_device_name(0))\n",
    "print(\"Supports BF16:\", torch.cuda.is_bf16_supported())\n",
    "print(\"Supports TF32:\", torch.backends.cuda.matmul.allow_tf32)\n",
    "print(\"Supports FP16:\", torch.cuda.get_device_capability(0)[0] >= 7)"
   ]
  }
 ],
 "metadata": {
  "kernelspec": {
   "display_name": "Python 3",
   "language": "python",
   "name": "python3"
  },
  "language_info": {
   "codemirror_mode": {
    "name": "ipython",
    "version": 3
   },
   "file_extension": ".py",
   "mimetype": "text/x-python",
   "name": "python",
   "nbconvert_exporter": "python",
   "pygments_lexer": "ipython3",
   "version": "3.10.12"
  }
 },
 "nbformat": 4,
 "nbformat_minor": 5
}
