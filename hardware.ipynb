{
 "cells": [
  {
   "cell_type": "code",
   "execution_count": null,
   "id": "9fb53666",
   "metadata": {},
   "outputs": [],
   "source": [
    "# Complete tinyGPT\n",
    "# Then build and train gpt2\n",
    "# Papers - Attention is all you need\n",
    "# GPT 2/3 paper\n",
    "\n",
    "# Llamac/llama2.c\n",
    "# Cuda \n",
    "\n",
    "#### commands\n",
    "\"\"\"\"\n",
    "To see the gpu stats\n",
    "nvidia-smi \n",
    "# To see al the cpu stats\n",
    "\n",
    "\n",
    "\"\"\""
   ]
  },
  {
   "cell_type": "code",
   "execution_count": null,
   "id": "403d25bd",
   "metadata": {},
   "outputs": [
    {
     "name": "stdout",
     "output_type": "stream",
     "text": [
      "CUDA available: True\n",
      "GPU name: NVIDIA GeForce GTX 1650\n",
      "Supports BF16: True\n",
      "Supports TF32: False\n",
      "Supports FP16: True\n",
      "Total GPU memory: 4.00 GB\n",
      "Allocated memory: 0.00 MB\n",
      "Reserved memory : 2.00 MB\n"
     ]
    }
   ],
   "source": [
    "import torch\n",
    "\n",
    "print(\"CUDA available:\", torch.cuda.is_available())\n",
    "print(\"GPU name:\", torch.cuda.get_device_name(0))\n",
    "print(\"Supports BF16:\", torch.cuda.is_bf16_supported())\n",
    "print(\"Supports TF32:\", torch.backends.cuda.matmul.allow_tf32)\n",
    "print(\"Supports FP16:\", torch.cuda.get_device_capability(0)[0] >= 7)\n",
    "\n",
    "if torch.cuda.is_available():\n",
    "    gpu_id = 0  # Change if you have multiple GPUs\n",
    "    total_memory = torch.cuda.get_device_properties(gpu_id).total_memory\n",
    "    print(f\"Total GPU memory: {total_memory / (1024**3):.2f} GB\")\n",
    "    # print(f\"Allocated memory: {torch.cuda.memory_allocated(gpu_id) / (1024**2):.2f} MB\")\n",
    "    # print(f\"Reserved memory : {torch.cuda.memory_reserved(gpu_id) / (1024**2):.2f} MB\")\n",
    "else:\n",
    "    print(\"CUDA not available\")"
   ]
  },
  {
   "cell_type": "code",
   "execution_count": null,
   "id": "69d5c698",
   "metadata": {},
   "outputs": [],
   "source": [
    "# Calculation of Time and money needed to run the model\n",
    "# Calculate the number of parmameters that model contains\n"
   ]
  },
  {
   "cell_type": "code",
   "execution_count": null,
   "id": "2639ca32",
   "metadata": {},
   "outputs": [
    {
     "name": "stdout",
     "output_type": "stream",
     "text": [
      "wte: 38633472, wpe: 786432\n",
      "total parameters: 124474370\n",
      "non decay parameters: 119808\n",
      "non decay parameters: 9984\n",
      "decay parameters: 124354562\n"
     ]
    }
   ],
   "source": [
    "# import torch\n",
    "# how many neurons and number of values needed to represent that neuron\n",
    "# GPT-> Token embedding, position embedding, Module List, lmhead\n",
    "# Module List -> n_layer number of blocks\n",
    "# Block -> Casual self attention + Feed forward network\n",
    "# FeedForward network -> 2 linear model with gelu in between\n",
    "# Self attention block -> casual attention + projection\n",
    "vocab_size = 50304 \n",
    "block_size = 1024\n",
    "n_embd = 768\n",
    "n_layer = 12\n",
    "n_head = 12\n",
    "batch_size = 12\n",
    "\n"
   ]
  },
  {
   "cell_type": "code",
   "execution_count": 25,
   "id": "444ab71b",
   "metadata": {},
   "outputs": [
    {
     "name": "stdout",
     "output_type": "stream",
     "text": [
      "237.42 MB\n"
     ]
    }
   ],
   "source": [
    "# calculate in a single loop run how much memory is required\n",
    "model_size = (total_parameters * 2) / (2 ** 20)\n",
    "# Size of the model if it is stored in FP16\n",
    "print(f\"{model_size:.2f} MB\")"
   ]
  },
  {
   "cell_type": "code",
   "execution_count": 31,
   "id": "248d3a2f",
   "metadata": {},
   "outputs": [
    {
     "name": "stdout",
     "output_type": "stream",
     "text": [
      "total size: 1003.00\n"
     ]
    }
   ],
   "source": [
    "input_size = (batch_size * block_size * n_embd) * 2\n",
    "# for activation input size becomes\n",
    "input_size = input_size * 3\n",
    "model_weight_size = total_parameters * 2\n",
    "# optimizer (AdamW) stores 3 copies(weights + momentum + velocity)\n",
    "optimizer_size = model_weight_size * 3\n",
    "\n",
    "total_memory = input_size + model_weight_size + optimizer_size\n",
    "print(f\"total size: {total_memory//(2**20):.2f}\")"
   ]
  },
  {
   "cell_type": "code",
   "execution_count": 1,
   "id": "36b76655",
   "metadata": {},
   "outputs": [],
   "source": [
    "# model config\n",
    "vocab_size = 50304 \n",
    "block_size = 1024\n",
    "n_embd = 768\n",
    "n_layer = 12\n",
    "n_head = 12\n",
    "batch_size = 12"
   ]
  },
  {
   "cell_type": "code",
   "execution_count": 2,
   "id": "7cbe4cb2",
   "metadata": {},
   "outputs": [
    {
     "name": "stdout",
     "output_type": "stream",
     "text": [
      "wte: 38633472, wpe: 786432\n",
      "total parameters: 124474370\n",
      "non decay parameters: 119808\n",
      "non decay parameters: 9984\n",
      "decay parameters: 124354562\n"
     ]
    }
   ],
   "source": [
    "# with Bias calculation\n",
    "def params():\n",
    "    qkv_proj_param = (n_embd * 3 * n_embd) + (3 * n_embd)\n",
    "    out_proj_param = (n_embd * n_embd) + (n_embd)\n",
    "    attn_param = qkv_proj_param + out_proj_param\n",
    "\n",
    "    feed_ln1_param = (n_embd * 4 * n_embd) + (4 * n_embd)\n",
    "    feed_ln2_param = (4 * n_embd * n_embd) + n_embd\n",
    "    feed_param = feed_ln1_param + feed_ln2_param\n",
    "\n",
    "    layer_norm_param = 2 * 2 * n_embd\n",
    "    block_param =  layer_norm_param + attn_param + feed_param # a layer norm contains 2 param\n",
    "    wte = vocab_size * n_embd\n",
    "    wpe = block_size * n_embd\n",
    "    # decay_param = (3 * n_embd) + (n_embd) + (4 * n_embd) + n_embd + 4 * n_embd\n",
    "    non_decay_param = n_layer * (13 * n_embd)\n",
    "    total_parameters = (wte + wpe + 2 + n_layer * block_param)\n",
    "    print(f\"wte: {wte}, wpe: {wpe}\")\n",
    "    print(f\"total parameters: {total_parameters}\")\n",
    "    print(f\"non decay parameters: {non_decay_param}\")\n",
    "    print(f\"non decay parameters: {non_decay_param//n_layer}\")\n",
    "    print(f\"decay parameters: {total_parameters - non_decay_param}\")\n",
    "    # find out decayed and non decay params of the model\n",
    "\n",
    "params()"
   ]
  },
  {
   "cell_type": "code",
   "execution_count": null,
   "id": "45a79a1e",
   "metadata": {},
   "outputs": [],
   "source": [
    "# model saved in FP16 - 2 bytes\n"
   ]
  }
 ],
 "metadata": {
  "kernelspec": {
   "display_name": "Python 3",
   "language": "python",
   "name": "python3"
  },
  "language_info": {
   "codemirror_mode": {
    "name": "ipython",
    "version": 3
   },
   "file_extension": ".py",
   "mimetype": "text/x-python",
   "name": "python",
   "nbconvert_exporter": "python",
   "pygments_lexer": "ipython3",
   "version": "3.10.12"
  }
 },
 "nbformat": 4,
 "nbformat_minor": 5
}
