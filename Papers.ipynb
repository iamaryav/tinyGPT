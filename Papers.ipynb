{
 "cells": [
  {
   "cell_type": "code",
   "execution_count": 1,
   "id": "d8634951",
   "metadata": {},
   "outputs": [],
   "source": [
    "# Nano implemenations and notes of paper i read \n",
    "# while building this tinyGPT"
   ]
  },
  {
   "cell_type": "markdown",
   "id": "eee79e50",
   "metadata": {},
   "source": [
    "#### Attention is all you need"
   ]
  },
  {
   "cell_type": "code",
   "execution_count": null,
   "id": "ad8b799c",
   "metadata": {},
   "outputs": [],
   "source": [
    "# Neural Network, Encoder, decoder, attention\n",
    "# Recurrent Neural network, Convolution neural network\n"
   ]
  }
 ],
 "metadata": {
  "kernelspec": {
   "display_name": "Python 3",
   "language": "python",
   "name": "python3"
  },
  "language_info": {
   "codemirror_mode": {
    "name": "ipython",
    "version": 3
   },
   "file_extension": ".py",
   "mimetype": "text/x-python",
   "name": "python",
   "nbconvert_exporter": "python",
   "pygments_lexer": "ipython3",
   "version": "3.10.12"
  }
 },
 "nbformat": 4,
 "nbformat_minor": 5
}
